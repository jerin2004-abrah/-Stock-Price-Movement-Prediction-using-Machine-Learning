{
  "nbformat": 4,
  "nbformat_minor": 0,
  "metadata": {
    "colab": {
      "provenance": []
    },
    "kernelspec": {
      "name": "python3",
      "display_name": "Python 3"
    },
    "language_info": {
      "name": "python"
    }
  },
  "cells": [
    {
      "cell_type": "code",
      "execution_count": 3,
      "metadata": {
        "id": "dpIiyP8_Rrhq"
      },
      "outputs": [],
      "source": [
        "import yfinance as yf\n",
        "import pandas as pd\n",
        "from sklearn.ensemble import RandomForestClassifier\n",
        "from sklearn.model_selection import cross_val_score\n",
        "from sklearn.metrics import precision_score\n",
        "from sklearn.metrics import make_scorer\n",
        "import os"
      ]
    },
    {
      "cell_type": "code",
      "source": [
        "# Function to backtest the model\n",
        "def backtest(data, model, predictors, start=2500, step=250):\n",
        "    all_predictions = []\n",
        "\n",
        "    for i in range(start, data.shape[0], step):\n",
        "        train = data.iloc[0:i].copy()\n",
        "        test = data.iloc[i:(i+step)].copy()\n",
        "        predictions = predict(train, test, predictors, model)\n",
        "        all_predictions.append(predictions)\n",
        "\n",
        "    return pd.concat(all_predictions)"
      ],
      "metadata": {
        "id": "MUiSG_-rRvwJ"
      },
      "execution_count": 4,
      "outputs": []
    },
    {
      "cell_type": "code",
      "source": [
        "# Function to make predictions\n",
        "def predict(train, test, predictors, model):\n",
        "    model.fit(train[predictors], train[\"Target\"])\n",
        "    preds = model.predict_proba(test[predictors])[:,1]\n",
        "    preds[preds >= .6] = 1\n",
        "    preds[preds < .6] = 0\n",
        "    preds = pd.Series(preds, index=test.index, name=\"Predictions\")\n",
        "    combined = pd.concat([test[\"Target\"], preds], axis=1)\n",
        "    return combined"
      ],
      "metadata": {
        "id": "J1y_Nlp3R3ha"
      },
      "execution_count": 5,
      "outputs": []
    },
    {
      "cell_type": "code",
      "source": [
        "# Check if the data file exists, otherwise download it\n",
        "if os.path.exists(\"sp500.csv\"):\n",
        "    sp500 = pd.read_csv(\"sp500.csv\", index_col=0)\n",
        "else:\n",
        "    sp500 = yf.Ticker(\"^GSPC\")\n",
        "    sp500 = sp500.history(period=\"max\")\n",
        "    sp500.to_csv(\"sp500.csv\")"
      ],
      "metadata": {
        "id": "1rGK5KMPR402"
      },
      "execution_count": 6,
      "outputs": []
    },
    {
      "cell_type": "code",
      "source": [
        "# Preprocess the data\n",
        "sp500.index = pd.to_datetime(sp500.index)\n",
        "del sp500[\"Dividends\"]\n",
        "del sp500[\"Stock Splits\"]\n",
        "sp500[\"Tomorrow\"] = sp500[\"Close\"].shift(-1)\n",
        "sp500[\"Target\"] = (sp500[\"Tomorrow\"] > sp500[\"Close\"]).astype(int)\n",
        "sp500 = sp500.loc[\"1990-01-01\":].copy()"
      ],
      "metadata": {
        "id": "TfRrQx_PR8la"
      },
      "execution_count": 7,
      "outputs": []
    },
    {
      "cell_type": "code",
      "source": [
        "# Define predictors\n",
        "predictors = [\"Close\", \"Volume\", \"Open\", \"High\", \"Low\"]"
      ],
      "metadata": {
        "id": "Uc2NNQMCSAI3"
      },
      "execution_count": 8,
      "outputs": []
    },
    {
      "cell_type": "code",
      "source": [
        "# Create initial model\n",
        "model = RandomForestClassifier(n_estimators=100, min_samples_split=100, random_state=1)"
      ],
      "metadata": {
        "id": "ronGUCJhSFwa"
      },
      "execution_count": 9,
      "outputs": []
    },
    {
      "cell_type": "code",
      "source": [
        "# Train-test split\n",
        "train = sp500.iloc[:-100]\n",
        "test = sp500.iloc[-100:]\n"
      ],
      "metadata": {
        "id": "smozx6H3SLJg"
      },
      "execution_count": 10,
      "outputs": []
    },
    {
      "cell_type": "code",
      "source": [
        "# Fit and evaluate the initial model\n",
        "model.fit(train[predictors], train[\"Target\"])\n",
        "preds = model.predict(test[predictors])\n",
        "precision = precision_score(test[\"Target\"], preds)\n",
        "print(\"Initial Model Precision Score:\", precision)"
      ],
      "metadata": {
        "colab": {
          "base_uri": "https://localhost:8080/"
        },
        "id": "A9OcCcvtSOF0",
        "outputId": "d77bd931-8d48-4a66-97f0-9f77c82b2b17"
      },
      "execution_count": 11,
      "outputs": [
        {
          "output_type": "stream",
          "name": "stdout",
          "text": [
            "Initial Model Precision Score: 0.4925373134328358\n"
          ]
        }
      ]
    },
    {
      "cell_type": "code",
      "source": [
        "# Cross-validation\n",
        "precision_scorer = make_scorer(precision_score)\n",
        "cv_scores = cross_val_score(model, sp500[predictors], sp500[\"Target\"], cv=5, scoring=precision_scorer)\n",
        "print(\"Cross-Validation Precision Scores:\", cv_scores)\n",
        "print(\"Mean Precision Score:\", cv_scores.mean())"
      ],
      "metadata": {
        "colab": {
          "base_uri": "https://localhost:8080/"
        },
        "id": "KRFJiJwJSRAk",
        "outputId": "af4566ff-8d73-46b4-cd48-2953231b96ab"
      },
      "execution_count": 12,
      "outputs": [
        {
          "output_type": "stream",
          "name": "stdout",
          "text": [
            "Cross-Validation Precision Scores: [0.53446262 0.5        0.50121655 0.51980198 0.53508772]\n",
            "Mean Precision Score: 0.5181137722661722\n"
          ]
        }
      ]
    },
    {
      "cell_type": "code",
      "source": [
        "# Generate new predictors\n",
        "horizons = [2, 5, 60, 250, 1000]\n",
        "new_predictors = []\n",
        "\n",
        "for horizon in horizons:\n",
        "    rolling_averages = sp500.rolling(horizon).mean()\n",
        "    ratio_column = f\"Close_Ratio_{horizon}\"\n",
        "    sp500[ratio_column] = sp500[\"Close\"] / rolling_averages[\"Close\"]\n",
        "    trend_column = f\"Trend_{horizon}\"\n",
        "    sp500[trend_column] = sp500.shift(1).rolling(horizon).sum()[\"Target\"]\n",
        "    new_predictors += [ratio_column, trend_column]"
      ],
      "metadata": {
        "id": "75UqnD6lSUMX"
      },
      "execution_count": 13,
      "outputs": []
    },
    {
      "cell_type": "code",
      "source": [
        "# Drop NaN rows\n",
        "sp500 = sp500.dropna(subset=sp500.columns[sp500.columns != \"Tomorrow\"])"
      ],
      "metadata": {
        "id": "_7adcTkjSXRL"
      },
      "execution_count": 14,
      "outputs": []
    },
    {
      "cell_type": "code",
      "source": [
        "# Create a new model\n",
        "model = RandomForestClassifier(n_estimators=200, min_samples_split=50, random_state=1)"
      ],
      "metadata": {
        "id": "WsTFycX1SZp3"
      },
      "execution_count": 15,
      "outputs": []
    },
    {
      "cell_type": "code",
      "source": [
        "# Backtest with new predictors\n",
        "predictions = backtest(sp500, model, new_predictors)"
      ],
      "metadata": {
        "id": "zdjuuFh8Sc5j"
      },
      "execution_count": 16,
      "outputs": []
    },
    {
      "cell_type": "code",
      "source": [
        "# Evaluate the new model\n",
        "precision = precision_score(predictions[\"Target\"], predictions[\"Predictions\"])\n",
        "print(\"New Model Precision Score:\", precision)"
      ],
      "metadata": {
        "colab": {
          "base_uri": "https://localhost:8080/"
        },
        "id": "OMWshiJXSfIo",
        "outputId": "9ed01e69-e932-4913-c60a-59acd725b4eb"
      },
      "execution_count": 17,
      "outputs": [
        {
          "output_type": "stream",
          "name": "stdout",
          "text": [
            "New Model Precision Score: 0.572289156626506\n"
          ]
        }
      ]
    },
    {
      "cell_type": "code",
      "source": [
        "# Check class distribution in predictions\n",
        "class_distribution = predictions[\"Predictions\"].value_counts() / predictions.shape[0]\n",
        "print(\"Class Distribution in Predictions:\", class_distribution)\n"
      ],
      "metadata": {
        "colab": {
          "base_uri": "https://localhost:8080/"
        },
        "id": "LdgMulq8Si-H",
        "outputId": "2a1cd9d2-dc70-408c-a615-d2a32f36cf77"
      },
      "execution_count": 18,
      "outputs": [
        {
          "output_type": "stream",
          "name": "stdout",
          "text": [
            "Class Distribution in Predictions: 0.0    0.835839\n",
            "1.0    0.164161\n",
            "Name: Predictions, dtype: float64\n"
          ]
        }
      ]
    },
    {
      "cell_type": "code",
      "source": [
        "# Plot the results\n",
        "combined = pd.concat([predictions[\"Target\"], predictions[\"Predictions\"]], axis=1)\n",
        "combined.plot()"
      ],
      "metadata": {
        "colab": {
          "base_uri": "https://localhost:8080/",
          "height": 440
        },
        "id": "UKaKBWc0SnDR",
        "outputId": "d9b155a6-c08b-4a0b-809c-5ab9864386ce"
      },
      "execution_count": 19,
      "outputs": [
        {
          "output_type": "execute_result",
          "data": {
            "text/plain": [
              "<Axes: xlabel='Date'>"
            ]
          },
          "metadata": {},
          "execution_count": 19
        },
        {
          "output_type": "display_data",
          "data": {
            "text/plain": [
              "<Figure size 640x480 with 1 Axes>"
            ],
            "image/png": "[encoded data removed]"
          },
          "metadata": {}
        }
      ]
    }
  ]
}